{
 "cells": [
  {
   "cell_type": "markdown",
   "metadata": {},
   "source": [
    "# Image Watermarking"
   ]
  },
  {
   "cell_type": "markdown",
   "metadata": {},
   "source": [
    "## 0. Initialization"
   ]
  },
  {
   "cell_type": "code",
   "execution_count": null,
   "metadata": {},
   "outputs": [],
   "source": [
    "import os\n",
    "os.environ['CUDA_VISIBLE_DEVICES'] = '1'\n",
    "import torch\n",
    "from watermark.auto_watermark import AutoWatermark\n",
    "from utils.diffusion_config import DiffusionConfig\n",
    "from diffusers import StableDiffusionPipeline\n",
    "from diffusers import DPMSolverMultistepScheduler\n",
    "from dotenv import load_dotenv\n",
    "\n",
    "load_dotenv()\n",
    "\n",
    "model_path = os.getenv(\"MODEL_PATH\")\n",
    "\n",
    "scheduler = DPMSolverMultistepScheduler.from_pretrained(model_path, subfolder=\"scheduler\")\n",
    "device = 'cuda' if torch.cuda.is_available() else 'cpu'\n",
    "\n",
    "diffusion_config = DiffusionConfig(\n",
    "    scheduler = scheduler,\n",
    "    pipe = StableDiffusionPipeline.from_pretrained(model_path, scheduler=scheduler).to(device),\n",
    "    device = device,\n",
    "    image_size = (512, 512),\n",
    "    num_inference_steps = 50,\n",
    "    guidance_scale = 3.5,\n",
    "    gen_seed = 42,\n",
    "    inversion_type = \"ddim\"\n",
    ")"
   ]
  },
  {
   "cell_type": "markdown",
   "metadata": {},
   "source": [
    "## 1. Tree-Ring Watermark"
   ]
  },
  {
   "cell_type": "markdown",
   "metadata": {},
   "source": [
    "### 1.1. Tree-Ring Watermark Generation & Detection"
   ]
  },
  {
   "cell_type": "code",
   "execution_count": null,
   "metadata": {},
   "outputs": [],
   "source": [
    "mywatermark = AutoWatermark.load('TR', algorithm_config=f'config/TR.json',diffusion_config=diffusion_config)\n",
    "\n",
    "# generate watermarked image\n",
    "watermarked_image = mywatermark.generate_watermarked_media(input_data=\"A beautiful landscape with a river and mountains\")\n",
    "\n",
    "# visualize the watermarked image\n",
    "watermarked_image.show()"
   ]
  },
  {
   "cell_type": "code",
   "execution_count": null,
   "metadata": {},
   "outputs": [],
   "source": [
    "detection_result = mywatermark.detect_watermark_in_media(watermarked_image, guidance_scale=3.0)\n",
    "print(detection_result)\n"
   ]
  },
  {
   "cell_type": "code",
   "execution_count": null,
   "metadata": {},
   "outputs": [],
   "source": [
    "unwatermarked_image = mywatermark.generate_unwatermarked_media(input_data=\"A beautiful landscape with a river and mountains\")\n",
    "detection_result = mywatermark.detect_watermark_in_media(unwatermarked_image)\n",
    "print(detection_result)"
   ]
  },
  {
   "cell_type": "code",
   "execution_count": null,
   "metadata": {},
   "outputs": [],
   "source": [
    "print(mywatermark.detect_watermark_in_media(watermarked_image, detector_type=\"p_value\"))\n",
    "print(mywatermark.detect_watermark_in_media(unwatermarked_image, detector_type=\"p_value\"))"
   ]
  },
  {
   "cell_type": "markdown",
   "metadata": {},
   "source": [
    "### 1.2. Tree-Ring Watermark Visualization"
   ]
  },
  {
   "cell_type": "code",
   "execution_count": null,
   "metadata": {},
   "outputs": [],
   "source": [
    "from visualize.auto_visualization import AutoVisualizer\n",
    "\n",
    "data_for_visualization = mywatermark.get_data_for_visualize(watermarked_image)\n",
    "\n",
    "visualizer = AutoVisualizer.load('TR', data_for_visualization=data_for_visualization)"
   ]
  },
  {
   "cell_type": "code",
   "execution_count": null,
   "metadata": {},
   "outputs": [],
   "source": [
    "method_kwargs = [{},{\"channel\": 0}, {}, {\"channel\": 0}, {}]\n",
    "fig = visualizer.visualize(\n",
    "    rows=1,\n",
    "    cols=5,\n",
    "    methods=['draw_pattern_fft', 'draw_orig_latents_fft', 'draw_watermarked_image', 'draw_inverted_latents_fft', 'draw_inverted_pattern_fft'],\n",
    "    method_kwargs=method_kwargs,\n",
    "    save_path='TR_watermark_visualization.pdf'\n",
    " )"
   ]
  },
  {
   "cell_type": "markdown",
   "metadata": {},
   "source": [
    "## 2. Gaussian-Shading Watermark"
   ]
  },
  {
   "cell_type": "markdown",
   "metadata": {},
   "source": [
    "### 2.1. Gaussian-Shading Watermark Generation & Detection"
   ]
  },
  {
   "cell_type": "code",
   "execution_count": null,
   "metadata": {},
   "outputs": [],
   "source": [
    "mywatermark = AutoWatermark.load('GS', algorithm_config=f'config/GS.json',diffusion_config=diffusion_config)\n",
    "\n",
    "# generate watermarked image\n",
    "watermarked_image = mywatermark.generate_watermarked_media(input_data=\"A beautiful landscape with a river and mountains\")\n",
    "\n",
    "# visualize the watermarked image\n",
    "watermarked_image.show()"
   ]
  },
  {
   "cell_type": "code",
   "execution_count": null,
   "metadata": {},
   "outputs": [],
   "source": [
    "detection_result = mywatermark.detect_watermark_in_media(watermarked_image)\n",
    "print(detection_result)"
   ]
  },
  {
   "cell_type": "code",
   "execution_count": null,
   "metadata": {},
   "outputs": [],
   "source": [
    "unwatermarked_image = mywatermark.generate_unwatermarked_media(input_data=\"A beautiful landscape with a river and mountains\")\n",
    "detection_result = mywatermark.detect_watermark_in_media(unwatermarked_image)\n",
    "print(detection_result)"
   ]
  },
  {
   "cell_type": "markdown",
   "metadata": {},
   "source": [
    "### 2.2. Gaussian-Shading Watermark Visualization"
   ]
  },
  {
   "cell_type": "code",
   "execution_count": null,
   "metadata": {},
   "outputs": [],
   "source": [
    "from visualize.auto_visualization import AutoVisualizer\n",
    "\n",
    "data_for_visualization = mywatermark.get_data_for_visualize(watermarked_image)\n",
    "\n",
    "visualizer = AutoVisualizer.load('GS', data_for_visualization=data_for_visualization)"
   ]
  },
  {
   "cell_type": "code",
   "execution_count": null,
   "metadata": {},
   "outputs": [],
   "source": [
    "method_kwargs = [{\"channel\": 0}, {\"channel\": 0}, {}, {\"channel\": 0}, {\"channel\": 0}]\n",
    "\n",
    "fig = visualizer.visualize(\n",
    "    rows=1, \n",
    "    cols=5, \n",
    "    methods=['draw_watermark_bits', 'draw_orig_latents', 'draw_watermarked_image', 'draw_inverted_latents', 'draw_reconstructed_watermark_bits'], \n",
    "    method_kwargs=method_kwargs, \n",
    "    save_path='GS_watermark_visualization.pdf'\n",
    "    )"
   ]
  },
  {
   "cell_type": "markdown",
   "metadata": {},
   "source": [
    "## 3. PRC Watermark"
   ]
  },
  {
   "cell_type": "markdown",
   "metadata": {},
   "source": [
    "### 3.1. PRC Watermark Generation & Detection "
   ]
  },
  {
   "cell_type": "code",
   "execution_count": null,
   "metadata": {},
   "outputs": [],
   "source": [
    "mywatermark = AutoWatermark.load('PRC', algorithm_config=f'config/PRC.json',diffusion_config=diffusion_config)\n",
    "\n",
    "# generate watermarked image\n",
    "watermarked_image = mywatermark.generate_watermarked_media(input_data=\"A beautiful landscape with a river and mountains\")\n",
    "\n",
    "# visualize the watermarked image\n",
    "watermarked_image.show()"
   ]
  },
  {
   "cell_type": "code",
   "execution_count": null,
   "metadata": {},
   "outputs": [],
   "source": [
    "detection_result = mywatermark.detect_watermark_in_media(watermarked_image, inv_order=1)\n",
    "print(detection_result)"
   ]
  },
  {
   "cell_type": "code",
   "execution_count": null,
   "metadata": {},
   "outputs": [],
   "source": [
    "unwatermarked_image = mywatermark.generate_unwatermarked_media(input_data=\"A beautiful landscape with a river and mountains\")\n",
    "detection_result = mywatermark.detect_watermark_in_media(unwatermarked_image)\n",
    "print(detection_result)"
   ]
  },
  {
   "cell_type": "markdown",
   "metadata": {},
   "source": [
    "### 3.2. PRC Watermark Visualization"
   ]
  },
  {
   "cell_type": "code",
   "execution_count": null,
   "metadata": {},
   "outputs": [],
   "source": [
    "from visualize.auto_visualization import AutoVisualizer\n",
    "\n",
    "data_for_visualization = mywatermark.get_data_for_visualize(watermarked_image)\n",
    "\n",
    "visualizer = AutoVisualizer.load('PRC', data_for_visualization=data_for_visualization)"
   ]
  },
  {
   "cell_type": "code",
   "execution_count": null,
   "metadata": {},
   "outputs": [],
   "source": [
    "method_kwargs = [{}, {\"channel\": 3}, {}, {\"channel\": 3}, {}]\n",
    "\n",
    "fig = visualizer.visualize(\n",
    "  rows=1,\n",
    "  cols=5, \n",
    "  methods=['draw_codeword', 'draw_orig_latents', 'draw_watermarked_image', 'draw_inverted_latents', 'draw_recovered_codeword'], \n",
    "  method_kwargs=method_kwargs, \n",
    "  save_path='PRC_watermark_visualization.pdf'\n",
    ")"
   ]
  },
  {
   "cell_type": "markdown",
   "metadata": {},
   "source": [
    "## 4. RingID Watermark"
   ]
  },
  {
   "cell_type": "markdown",
   "metadata": {},
   "source": [
    "### 4.1. RingID Watermark Generation & Detection"
   ]
  },
  {
   "cell_type": "code",
   "execution_count": null,
   "metadata": {},
   "outputs": [],
   "source": [
    "mywatermark = AutoWatermark.load('RI', algorithm_config=f'config/RI.json',diffusion_config=diffusion_config)\n",
    "\n",
    "# generate watermarked image\n",
    "watermarked_image = mywatermark.generate_watermarked_media(input_data=\"A beautiful landscape with a river and mountains\")\n",
    "\n",
    "# visualize the watermarked image\n",
    "watermarked_image.show()"
   ]
  },
  {
   "cell_type": "code",
   "execution_count": null,
   "metadata": {},
   "outputs": [],
   "source": [
    "detection_result = mywatermark.detect_watermark_in_media(watermarked_image)\n",
    "print(detection_result)"
   ]
  },
  {
   "cell_type": "code",
   "execution_count": null,
   "metadata": {},
   "outputs": [],
   "source": [
    "unwatermarked_image = mywatermark.generate_unwatermarked_media(input_data=\"A beautiful landscape with a river and mountains\")\n",
    "detection_result = mywatermark.detect_watermark_in_media(unwatermarked_image)\n",
    "print(detection_result)"
   ]
  },
  {
   "cell_type": "markdown",
   "metadata": {},
   "source": [
    "### 4.2. RingID Watermark Visualization"
   ]
  },
  {
   "cell_type": "code",
   "execution_count": null,
   "metadata": {},
   "outputs": [],
   "source": [
    "from visualize.auto_visualization import AutoVisualizer\n",
    "\n",
    "data_for_visualization = mywatermark.get_data_for_visualize(watermarked_image)\n",
    "\n",
    "visualizer = AutoVisualizer.load('RI', data_for_visualization=data_for_visualization)"
   ]
  },
  {
   "cell_type": "code",
   "execution_count": null,
   "metadata": {},
   "outputs": [],
   "source": [
    "method_kwargs = [{}, {\"channel\": 3}, {}, {\"channel\": 3}, {}]\n",
    "fig = visualizer.visualize(\n",
    "    rows=1, \n",
    "    cols=5, \n",
    "    methods=['draw_ring_pattern_fft', 'draw_orig_latents_fft', 'draw_watermarked_image', 'draw_inverted_latents_fft', 'draw_heter_pattern_fft'], \n",
    "    method_kwargs=method_kwargs, \n",
    "    save_path='RI_watermark_visualization.pdf'\n",
    ")"
   ]
  },
  {
   "cell_type": "markdown",
   "metadata": {},
   "source": [
    "## 5. SEAL: Semantic Aware Image Watermark"
   ]
  },
  {
   "cell_type": "markdown",
   "metadata": {},
   "source": [
    "### 5.1. SEAL Watermark Generation & Detection"
   ]
  },
  {
   "cell_type": "code",
   "execution_count": null,
   "metadata": {},
   "outputs": [],
   "source": [
    "mywatermark = AutoWatermark.load('SEAL', algorithm_config=f'config/SEAL.json',diffusion_config=diffusion_config)\n",
    "\n",
    "# generate watermarked image\n",
    "watermarked_image = mywatermark.generate_watermarked_media(input_data=\"A beautiful landscape with a river and mountains\")\n",
    "\n",
    "# visualize the watermarked image\n",
    "watermarked_image.show()"
   ]
  },
  {
   "cell_type": "code",
   "execution_count": null,
   "metadata": {},
   "outputs": [],
   "source": [
    "detection_result = mywatermark.detect_watermark_in_media(watermarked_image)\n",
    "print(detection_result)"
   ]
  },
  {
   "cell_type": "code",
   "execution_count": null,
   "metadata": {},
   "outputs": [],
   "source": [
    "unwatermarked_image = mywatermark.generate_unwatermarked_media(input_data=\"A beautiful landscape with a river and mountains\")\n",
    "detection_result = mywatermark.detect_watermark_in_media(unwatermarked_image)\n",
    "print(detection_result)"
   ]
  },
  {
   "cell_type": "markdown",
   "metadata": {},
   "source": [
    "### 5.2. SEAL Watermark Visualization"
   ]
  },
  {
   "cell_type": "code",
   "execution_count": null,
   "metadata": {},
   "outputs": [],
   "source": [
    "from visualize.auto_visualization import AutoVisualizer\n",
    "\n",
    "data_for_visualization = mywatermark.get_data_for_visualize(watermarked_image)\n",
    "\n",
    "visualizer = AutoVisualizer.load('SEAL', data_for_visualization=data_for_visualization)"
   ]
  },
  {
   "cell_type": "code",
   "execution_count": null,
   "metadata": {},
   "outputs": [],
   "source": [
    "method_kwargs = [{}, {\"channel\": 2}, {}, {\"channel\": 2}, {}]\n",
    "\n",
    "fig = visualizer.visualize(\n",
    "    rows=1, \n",
    "    cols=5, \n",
    "    methods=['draw_embedding_distributions', 'draw_orig_latents', 'draw_watermarked_image', 'draw_inverted_latents', 'draw_patch_diff'], \n",
    "    method_kwargs=method_kwargs, \n",
    "    save_path='SEAL_watermark_visualization.pdf'\n",
    "    )"
   ]
  },
  {
   "cell_type": "markdown",
   "metadata": {},
   "source": [
    "## 6. WIND: Two-Stage Robust Watermarking for Images"
   ]
  },
  {
   "cell_type": "markdown",
   "metadata": {},
   "source": [
    "### 6.1. WIND Watermark Generation & Detection"
   ]
  },
  {
   "cell_type": "code",
   "execution_count": null,
   "metadata": {},
   "outputs": [],
   "source": [
    "mywatermark = AutoWatermark.load('WIND', algorithm_config=f'config/WIND.json',diffusion_config=diffusion_config)\n",
    "\n",
    "# generate watermarked image\n",
    "watermarked_image = mywatermark.generate_watermarked_media(input_data=\"A beautiful landscape with a river and mountains\")\n",
    "\n",
    "# visualize the watermarked image\n",
    "watermarked_image.show()"
   ]
  },
  {
   "cell_type": "code",
   "execution_count": null,
   "metadata": {},
   "outputs": [],
   "source": [
    "detection_result = mywatermark.detect_watermark_in_media(watermarked_image)\n",
    "print(detection_result)"
   ]
  },
  {
   "cell_type": "code",
   "execution_count": null,
   "metadata": {},
   "outputs": [],
   "source": [
    "unwatermarked_image = mywatermark.generate_unwatermarked_media(input_data=\"A beautiful landscape with a river and mountains\")\n",
    "detection_result = mywatermark.detect_watermark_in_media(unwatermarked_image)\n",
    "print(detection_result)"
   ]
  },
  {
   "cell_type": "markdown",
   "metadata": {},
   "source": [
    "### 6.2. WIND Watermark Visualization"
   ]
  },
  {
   "cell_type": "code",
   "execution_count": null,
   "metadata": {},
   "outputs": [],
   "source": [
    "from visualize.auto_visualization import AutoVisualizer\n",
    "\n",
    "data_for_visualization = mywatermark.get_data_for_visualize(watermarked_image)\n",
    "\n",
    "visualizer = AutoVisualizer.load('WIND', data_for_visualization=data_for_visualization)"
   ]
  },
  {
   "cell_type": "code",
   "execution_count": null,
   "metadata": {},
   "outputs": [],
   "source": [
    "method_kwargs = [{\"channel\": 2}, {\"channel\": 2}, {}, {\"channel\": 2}, {\"channel\": 2}]\n",
    "\n",
    "fig = visualizer.visualize(\n",
    "    rows=1, \n",
    "    cols=5, \n",
    "    methods=['draw_group_pattern_fft', 'draw_orig_latents_fft', 'draw_watermarked_image', 'draw_inverted_latents_fft', 'draw_inverted_group_pattern_fft'], \n",
    "    method_kwargs=method_kwargs, \n",
    "    save_path='WIND_watermark_visualization.pdf'\n",
    "    )"
   ]
  },
  {
   "cell_type": "markdown",
   "metadata": {},
   "source": [
    "## 7. ROBIN: Robust and Invisible Watermarks for Diffusion Models with Adversarial Optimization"
   ]
  },
  {
   "cell_type": "markdown",
   "metadata": {},
   "source": [
    "### 7.1. ROBIN WaterMark Generation & Detection"
   ]
  },
  {
   "cell_type": "code",
   "execution_count": null,
   "metadata": {},
   "outputs": [],
   "source": [
    "mywatermark = AutoWatermark.load('ROBIN', algorithm_config=f'config/ROBIN.json',diffusion_config=diffusion_config)\n",
    "\n",
    "# generate watermarked image\n",
    "watermarked_image = mywatermark.generate_watermarked_media(input_data=\"A beautiful landscape with a river and mountains\", guidance_scale=7.5)\n",
    "\n",
    "# visualize the watermarked image\n",
    "watermarked_image.show()"
   ]
  },
  {
   "cell_type": "code",
   "execution_count": null,
   "metadata": {},
   "outputs": [],
   "source": [
    "detection_result = mywatermark.detect_watermark_in_media(watermarked_image)\n",
    "print(detection_result)"
   ]
  },
  {
   "cell_type": "code",
   "execution_count": null,
   "metadata": {},
   "outputs": [],
   "source": [
    "unwatermarked_image = mywatermark.generate_unwatermarked_media(input_data=\"A beautiful landscape with a river and mountains\")\n",
    "detection_result = mywatermark.detect_watermark_in_media(unwatermarked_image)\n",
    "print(detection_result)"
   ]
  },
  {
   "cell_type": "markdown",
   "metadata": {},
   "source": [
    "### 7.2. ROBIN WaterMark Visualization"
   ]
  },
  {
   "cell_type": "code",
   "execution_count": null,
   "metadata": {},
   "outputs": [],
   "source": [
    "from visualize.auto_visualization import AutoVisualizer\n",
    "\n",
    "data_for_visualization = mywatermark.get_data_for_visualize(watermarked_image)\n",
    "\n",
    "visualizer = AutoVisualizer.load('ROBIN', data_for_visualization=data_for_visualization)"
   ]
  },
  {
   "cell_type": "code",
   "execution_count": null,
   "metadata": {},
   "outputs": [],
   "source": [
    "method_kwargs = [{}, {\"channel\": 3}, {}, {\"channel\": 3}, {}]\n",
    "\n",
    "fig = visualizer.visualize(\n",
    "    rows=1, \n",
    "    cols=5, \n",
    "    methods=['draw_pattern_fft', 'draw_orig_latents_fft', 'draw_watermarked_image', 'draw_inverted_latents_fft', 'draw_inverted_pattern_fft'], \n",
    "    method_kwargs=method_kwargs, \n",
    "    save_path='ROBIN_watermark_visualization.pdf'\n",
    "    )"
   ]
  },
  {
   "cell_type": "markdown",
   "metadata": {},
   "source": [
    "## 8. GaussMarker: Robust Dual-Domain Watermarks for Diffusion Models"
   ]
  },
  {
   "cell_type": "markdown",
   "metadata": {},
   "source": [
    "### 8.1. GaussMarker WaterMark Generation & Detection"
   ]
  },
  {
   "cell_type": "code",
   "execution_count": null,
   "metadata": {},
   "outputs": [],
   "source": [
    "mywatermark = AutoWatermark.load('GM', algorithm_config=f'config/GM.json',diffusion_config=diffusion_config)\n",
    "\n",
    "# generate watermarked image\n",
    "watermarked_image = mywatermark.generate_watermarked_media(input_data=\"A beautiful landscape with a river and mountains\", guidance_scale=7.5)\n",
    "\n",
    "# visualize the watermarked image\n",
    "watermarked_image.show()"
   ]
  },
  {
   "cell_type": "code",
   "execution_count": null,
   "metadata": {},
   "outputs": [],
   "source": [
    "detection_result = mywatermark.detect_watermark_in_media(watermarked_image)\n",
    "print(detection_result)"
   ]
  },
  {
   "cell_type": "code",
   "execution_count": null,
   "metadata": {},
   "outputs": [],
   "source": [
    "unwatermarked_image = mywatermark.generate_unwatermarked_media(input_data=\"A beautiful landscape with a river and mountains\")\n",
    "detection_result = mywatermark.detect_watermark_in_media(unwatermarked_image)\n",
    "print(detection_result)"
   ]
  },
  {
   "cell_type": "markdown",
   "metadata": {},
   "source": [
    "### 8.2. GaussMarker WaterMark Visualization"
   ]
  },
  {
   "cell_type": "code",
   "execution_count": null,
   "metadata": {},
   "outputs": [],
   "source": [
    "from visualize.auto_visualization import AutoVisualizer\n",
    "\n",
    "data_for_visualization = mywatermark.get_data_for_visualize(watermarked_image)\n",
    "\n",
    "visualizer = AutoVisualizer.load('GM', data_for_visualization=data_for_visualization)"
   ]
  },
  {
   "cell_type": "code",
   "execution_count": null,
   "metadata": {},
   "outputs": [],
   "source": [
    "method_kwargs = [{}, {}, {}, {}, {}]\n",
    "\n",
    "fig = visualizer.visualize(\n",
    "    rows=1, \n",
    "    cols=5, \n",
    "    methods=['draw_pattern_fft', 'draw_watermark_mask', 'draw_watermark_bits', 'draw_reconstructed_watermark_bits', 'draw_inverted_pattern_fft'], \n",
    "    method_kwargs=method_kwargs, \n",
    "    save_path='GM_watermark_visualization.pdf'\n",
    "    )"
   ]
  },
  {
   "cell_type": "markdown",
   "metadata": {},
   "source": [
    "# Video Watermarking"
   ]
  },
  {
   "cell_type": "markdown",
   "metadata": {},
   "source": [
    "## 0. Initialization"
   ]
  },
  {
   "cell_type": "code",
   "execution_count": null,
   "metadata": {},
   "outputs": [],
   "source": [
    "import os\n",
    "os.environ['CUDA_VISIBLE_DEVICES'] = '2'\n",
    "\n",
    "import torch\n",
    "from watermark.auto_watermark import AutoWatermark\n",
    "from utils.diffusion_config import DiffusionConfig\n",
    "from diffusers import TextToVideoSDPipeline, StableVideoDiffusionPipeline\n",
    "from diffusers import DPMSolverMultistepScheduler, DDIMInverseScheduler, DDIMScheduler\n",
    "from dotenv import load_dotenv\n",
    "load_dotenv()\n",
    "\n",
    "model_path = os.getenv('T2V_MODEL_PATH')\n",
    "\n",
    "scheduler = DDIMScheduler.from_pretrained(model_path, subfolder=\"scheduler\")\n",
    "device = 'cuda' if torch.cuda.is_available() else 'cpu'\n",
    "\n",
    "pipe = TextToVideoSDPipeline.from_pretrained(\n",
    "    model_path, \n",
    "    scheduler=scheduler,\n",
    "    torch_dtype=torch.float16 if device == 'cuda' else torch.float32\n",
    ").to(device)\n",
    "diffusion_config = DiffusionConfig(\n",
    "    pipe = pipe,\n",
    "    scheduler = scheduler,\n",
    "    device = device,\n",
    "    image_size = (256, 256),        \n",
    "    num_inference_steps = 25,       \n",
    "    guidance_scale = 7.5,           \n",
    "    gen_seed = 42,                  \n",
    "    init_latents_seed= 36,         \n",
    "    num_frames = 16,                \n",
    "    inversion_type = \"ddim\"         \n",
    ")\n",
    "print(pipe.device)"
   ]
  },
  {
   "cell_type": "code",
   "execution_count": null,
   "metadata": {},
   "outputs": [],
   "source": [
    "import matplotlib.pyplot as plt\n",
    "def display_frame(frame, title=\"Generated Frame\"):\n",
    "    plt.figure(figsize=(8, 8))\n",
    "    plt.imshow(frame)\n",
    "    plt.axis('off')\n",
    "    plt.title(title)\n",
    "    plt.show()"
   ]
  },
  {
   "cell_type": "markdown",
   "metadata": {},
   "source": [
    "## 1. VideoShield Watermark"
   ]
  },
  {
   "cell_type": "markdown",
   "metadata": {},
   "source": [
    "### 1.1 VideoShield Watermark Generation & Detection"
   ]
  },
  {
   "cell_type": "code",
   "execution_count": null,
   "metadata": {},
   "outputs": [],
   "source": [
    "mywatermark = AutoWatermark.load('VideoShield', algorithm_config=f'config/VideoShield.json', diffusion_config=diffusion_config)\n",
    "\n",
    "unwatermarked_video = mywatermark.generate_unwatermarked_media(input_data=\"a dog running in the park\")\n",
    "\n",
    "watermarked_video = mywatermark.generate_watermarked_media(input_data=\"a dog running in the park\", num_frames=16)\n",
    "display_frame(watermarked_video[0], \"Watermarked Video Frame\")\n",
    "display_frame(watermarked_video[5], \"Watermarked Video Frame\")\n",
    "display_frame(watermarked_video[10], \"Watermarked Video Frame\")\n",
    "display_frame(watermarked_video[15], \"Watermarked Video Frame\")\n"
   ]
  },
  {
   "cell_type": "code",
   "execution_count": null,
   "metadata": {},
   "outputs": [],
   "source": [
    "detection_result = mywatermark.detect_watermark_in_media(watermarked_video, detector_type='bit_acc')\n",
    "print(\"Watermarked test result:\", detection_result)\n",
    "    \n",
    "detection_result = mywatermark.detect_watermark_in_media(unwatermarked_video, detector_type='bit_acc')\n",
    "print(\"Unwatermarked test result:\", detection_result)"
   ]
  },
  {
   "cell_type": "markdown",
   "metadata": {},
   "source": [
    "### 1.2. VideoShield Watermark Visualization"
   ]
  },
  {
   "cell_type": "code",
   "execution_count": null,
   "metadata": {},
   "outputs": [],
   "source": [
    "from visualize.auto_visualization import AutoVisualizer\n",
    "\n",
    "data_for_visualization = mywatermark.get_data_for_visualize(\n",
    "    video_frames=watermarked_video,\n",
    "    prompt=\"\",\n",
    "    guidance_scale=1.0,\n",
    "    num_inference_steps=25,\n",
    ")\n",
    "visualizer = AutoVisualizer.load('VideoShield', data_for_visualization=data_for_visualization)"
   ]
  },
  {
   "cell_type": "code",
   "execution_count": null,
   "metadata": {},
   "outputs": [],
   "source": [
    "method_kwargs = [{\"channel\": 1}, {\"channel\": 1}, {\"num_frames\": 4}, {\"channel\": 1}, {\"channel\": 1}]\n",
    "\n",
    "fig = visualizer.visualize(\n",
    "    rows=1, \n",
    "    cols=5, \n",
    "    methods=['draw_watermark_bits', 'draw_orig_latents', 'draw_watermarked_video_frames', 'draw_inverted_latents', 'draw_reconstructed_watermark_bits'], \n",
    "    method_kwargs=method_kwargs, \n",
    "    save_path='VideoShield_watermark_visualization.pdf'\n",
    "    )"
   ]
  },
  {
   "cell_type": "markdown",
   "metadata": {},
   "source": [
    "## 2. VideoMark Watermark"
   ]
  },
  {
   "cell_type": "markdown",
   "metadata": {},
   "source": [
    "### 2.1 VideoMark Watermark Generation & Detection"
   ]
  },
  {
   "cell_type": "code",
   "execution_count": null,
   "metadata": {},
   "outputs": [],
   "source": [
    "mywatermark = AutoWatermark.load('VideoMark', algorithm_config=f'config/VideoMark.json', diffusion_config=diffusion_config)\n",
    "\n",
    "unwatermarked_video = mywatermark.generate_unwatermarked_media(input_data=\"a dog running in the park\")\n",
    "\n",
    "watermarked_video = mywatermark.generate_watermarked_media(input_data=\"a dog running in the park\", num_frames=16)\n",
    "display_frame(watermarked_video[0], \"Watermarked Video Frame\")\n",
    "display_frame(watermarked_video[5], \"Watermarked Video Frame\")\n",
    "display_frame(watermarked_video[10], \"Watermarked Video Frame\")\n",
    "display_frame(watermarked_video[15], \"Watermarked Video Frame\")\n"
   ]
  },
  {
   "cell_type": "code",
   "execution_count": null,
   "metadata": {},
   "outputs": [],
   "source": [
    "detection_result = mywatermark.detect_watermark_in_media(watermarked_video, detector_type='bit_acc')\n",
    "print(\"Watermarked test result:\", detection_result)\n",
    "    \n",
    "detection_result = mywatermark.detect_watermark_in_media(unwatermarked_video, detector_type='bit_acc')\n",
    "print(\"Unwatermarked test result:\", detection_result)"
   ]
  },
  {
   "cell_type": "markdown",
   "metadata": {},
   "source": [
    "### 1.2. VideoMark Watermark Visualization"
   ]
  },
  {
   "cell_type": "code",
   "execution_count": null,
   "metadata": {},
   "outputs": [],
   "source": [
    "from visualize.auto_visualization import AutoVisualizer\n",
    "\n",
    "data_for_visualization = mywatermark.get_data_for_visualize(\n",
    "    video_frames=watermarked_video,\n",
    "    prompt=\"\",\n",
    "    guidance_scale=1.0,\n",
    "    num_inference_steps=25,\n",
    ")\n",
    "visualizer = AutoVisualizer.load('VideoMark', data_for_visualization=data_for_visualization)"
   ]
  },
  {
   "cell_type": "code",
   "execution_count": null,
   "metadata": {},
   "outputs": [],
   "source": [
    "\n",
    "fig = visualizer.visualize(\n",
    "    rows=1, \n",
    "    cols=1, \n",
    "    methods=['draw_watermarked_video_frames'], \n",
    "    save_path='VideoMark_watermark_visualization.pdf'\n",
    "    )"
   ]
  }
 ],
 "metadata": {
  "kernelspec": {
   "display_name": "markdiff",
   "language": "python",
   "name": "python3"
  },
  "language_info": {
   "codemirror_mode": {
    "name": "ipython",
    "version": 3
   },
   "file_extension": ".py",
   "mimetype": "text/x-python",
   "name": "python",
   "nbconvert_exporter": "python",
   "pygments_lexer": "ipython3",
   "version": "3.12.10"
  }
 },
 "nbformat": 4,
 "nbformat_minor": 2
}
